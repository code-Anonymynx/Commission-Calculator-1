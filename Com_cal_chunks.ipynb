{
 "cells": [
  {
   "cell_type": "code",
   "execution_count": 19,
   "id": "ad7235d3-49b7-4ec4-afdd-f6266a33031a",
   "metadata": {},
   "outputs": [
    {
     "name": "stdout",
     "output_type": "stream",
     "text": [
      "Today you earned: £ 132 \n",
      " - Please update the appropriate day below\n"
     ]
    }
   ],
   "source": [
    "sales = 2                        \n",
    "LG_com = 0                                         \n",
    "\n",
    "m_day = \"Today you earned: £\"\n",
    "d_pay = 92 \n",
    "\n",
    "if LG_com == 0:\n",
    "    LG_com = 0\n",
    "else: \n",
    "    if LG_com > 4: \n",
    "        LG_com = 10\n",
    "    else:\n",
    "        LG_com = LG_com * 2.5\n",
    "\n",
    "if sales == 0:\n",
    "    sales = 0\n",
    "else: \n",
    "    if sales > 2: \n",
    "        sales = sales * 10 + 20\n",
    "    else:\n",
    "        sales = sales * 20\n",
    "print(m_day, d_pay + LG_com + sales, \"\\n - Please update the appropriate day below\")"
   ]
  },
  {
   "cell_type": "code",
   "execution_count": null,
   "id": "ae7a8f8f-9f22-4ba4-bb08-1ec96347b3fd",
   "metadata": {},
   "outputs": [],
   "source": []
  },
  {
   "cell_type": "code",
   "execution_count": 20,
   "id": "80523f7c-0dca-48c9-9387-b73a61b7b7d4",
   "metadata": {},
   "outputs": [
    {
     "name": "stdout",
     "output_type": "stream",
     "text": [
      "This week you earned: £ 416\n",
      " - Please update the appropriate week below\n"
     ]
    }
   ],
   "source": [
    "d1 = 172                        \n",
    "d2 = 112\n",
    "d3 = 132\n",
    "d4 = 0\n",
    "d5 = 0\n",
    "d6 = 0\n",
    "\n",
    "m_week = \"This week you earned: £\"\n",
    "\n",
    "if d6 >= 92:\n",
    "    print(m_week, d1 + d2 + d3 + d4 + d5 + d6 + 100 + 25)\n",
    "else:\n",
    "    if d5 >= 92:\n",
    "        print(m_week, d1 + d2 + d3 + d4 + d5 + 50 + 25) \n",
    "    else:\n",
    "        print(m_week, d1 + d2 + d3 + d4)\n",
    "\n",
    "print(\" - Please update the appropriate week below\")"
   ]
  },
  {
   "cell_type": "code",
   "execution_count": 23,
   "id": "be9cf960-569b-4c59-bb4a-d115d5589570",
   "metadata": {},
   "outputs": [
    {
     "name": "stdout",
     "output_type": "stream",
     "text": [
      "This month you've earned: £ 416\n",
      "If you include tax (assumed at 12.5%) you'll be paid: £ 364.0\n"
     ]
    }
   ],
   "source": [
    "w1 = 416                  \n",
    "w2 = 0\n",
    "w3 = 0\n",
    "w4 = 0\n",
    "\n",
    "m_month = \"This month you've earned: £\"\n",
    "m_tax = \"If you include tax (assumed at 12.5%) you'll be paid: £\"\n",
    "\n",
    "if w3 >= 535:\n",
    "    m_total = w1 + w2 + w3 + w4 + 150\n",
    "else: \n",
    "    m_total = w1 + w2 + w3 + w4\n",
    "print(m_month, m_total)\n",
    "print(m_tax, m_total*0.875)"
   ]
  },
  {
   "cell_type": "code",
   "execution_count": null,
   "id": "7a8971a4-f9aa-4ec8-9ae3-882ba70474df",
   "metadata": {},
   "outputs": [],
   "source": []
  }
 ],
 "metadata": {
  "kernelspec": {
   "display_name": "Python 3 (ipykernel)",
   "language": "python",
   "name": "python3"
  },
  "language_info": {
   "codemirror_mode": {
    "name": "ipython",
    "version": 3
   },
   "file_extension": ".py",
   "mimetype": "text/x-python",
   "name": "python",
   "nbconvert_exporter": "python",
   "pygments_lexer": "ipython3",
   "version": "3.12.2"
  }
 },
 "nbformat": 4,
 "nbformat_minor": 5
}
